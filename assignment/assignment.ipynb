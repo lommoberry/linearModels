{
  "cells": [
    {
      "cell_type": "markdown",
      "id": "e0c7b14a-e5aa-4abc-b48b-b8a9d20dacac",
      "metadata": {
        "id": "e0c7b14a-e5aa-4abc-b48b-b8a9d20dacac"
      },
      "source": [
        "# Assignment: Linear Models\n",
        "## Do three questions.\n",
        "### `! git clone https://github.com/ds4e/linearModels`"
      ]
    },
    {
      "cell_type": "markdown",
      "id": "c8b2bd92",
      "metadata": {},
      "source": [
        "# Q1"
      ]
    },
    {
      "cell_type": "markdown",
      "id": "bf4826b0",
      "metadata": {
        "id": "bf4826b0"
      },
      "source": [
        "**Q1.** Please answer the following questions in your own words.\n",
        "\n",
        "1. What makes a model \"linear\"? \"Linear\" in what?\n",
        "2. How do you interpret the coefficient for a dummy/one-hot-encoded variable? (This is a trick question, and the trick involves how you handle the intercept of the model.)\n",
        "3. Can linear regression be used for classification? Explain why, or why not.\n",
        "4. What are signs that your linear model is over-fitting?\n",
        "5. Clearly explain multi-colinearity using the two-stage least squares technique.\n",
        "6. How can you incorporate nonlinear relationships between your target/response/dependent/outcome variable $y$ and your features/control/response/independent variables $x$ into your analysis?\n",
        "7. What is the interpretation of the intercept? A slope coefficient for a variable? The coefficient for a dummy/one-hot-encoded variable?"
      ]
    },
    {
      "cell_type": "markdown",
      "id": "74de25b8",
      "metadata": {},
      "source": [
        "***Q1.1*** \n",
        "\n",
        "A model is linear if it assumes a linear relationship between the independent and dependent variables. It is linear in the parameters, which means that the model can be written in a linear fashion.\n",
        "\n",
        "***Q1.2*** \n",
        "\n",
        "The coefficient for a dummy variable represents the difference between the expected value of y when the category is presents vs the baseline category where the variables are held constant. \n",
        "\n",
        "if there is an intercept, one catergory is left out as a reference category and its effect is seen in the intercept\n",
        "\n",
        "if there is not an intercept in the model, all the dummy variables are included but the coefficient's interpretation will change because each coefficient will represent the absolute mean of y for that category\n",
        "\n",
        "***Q1.3*** \n",
        "linear regression can be used, but its not the best choice, because it produces a continuous value instead of probabilities, it assumes a linear relationship which might not be the base, especially for classification which can require decision boundaries that might not be linear. Also linear regressions are sensitive to outliers which can skew the data. \n",
        "\n",
        "***Q1.4*** \n",
        "Overfitting signs\n",
        "- if there is high training accuracy and low test accuracy. This means that the model is only trained for the training data, and can't be applied for general use\n",
        "- if small changes in data lead to large coefficient variations\n",
        "- large coefficients means the model is trying to fit noise in data\n",
        "- adjusted R^2 is lower than R^2, means too many predictors                                                                                                                                             \n",
        "\n",
        "***Q1.5*** \n",
        "multicollinearity is when two or more independent variables are highly correlated, making it hard to see there independent effects on y. \n",
        "\n",
        "Two-stage Least squares is used to deal with this:\n",
        "- step 1: regress the problematic variable on some variables that are related to the predictor but not directly affecting the outcome\n",
        "- step 2: Use the values from step 1 in the main regression instead\n",
        "- this isolates the effects of the variable\n",
        "\n",
        "***Q1.6*** \n",
        "1. polynomial features, can capture curves for a model that does not align well to linear regression\n",
        "2. logs can linearize exponentials\n",
        "3. GAMS smooth non linear functions to variables instead\n",
        "4. machine learning models\n",
        "\n",
        "***Q1.7*** \n",
        "intercept: y when all predictors are 0\n",
        "slope coefficent: change in y for 1 unit increase in predictor\n",
        "dummy coefficent: difference in y between that category adn reference category\n",
        "\n"
      ]
    },
    {
      "cell_type": "markdown",
      "id": "5d857c5f",
      "metadata": {},
      "source": [
        "# Q8"
      ]
    },
    {
      "cell_type": "markdown",
      "id": "b67478ac-ad78-4a44-9720-583c71b8da14",
      "metadata": {
        "id": "b67478ac-ad78-4a44-9720-583c71b8da14"
      },
      "source": [
        "**Q8.**\n",
        "1. Find a dataset on a topic you're interested in. Some easy options are data.gov, kaggle.com, and data.world.\n",
        "2. Clean the data and do some exploratory data analysis on key variables that interest you. Pick a particular target/outcome variable and features/predictors.\n",
        "3. Split the sample into an ~80% training set and a ~20% test set.\n",
        "4. Run a few regressions of your target/outcome variable on a variety of features/predictors. Compute the SSE on the test set.\n",
        "5. Which model performed the best, and why?\n",
        "6. What did you learn?"
      ]
    },
    {
      "cell_type": "code",
      "execution_count": 8,
      "id": "9a783f82",
      "metadata": {},
      "outputs": [
        {
          "name": "stdout",
          "output_type": "stream",
          "text": [
            "  Atr1;Atr2;Atr3;Atr4;Atr5;Atr6;Atr7;Atr8;Atr9;Atr10;Atr11;Atr12;Atr13;Atr14;Atr15;Atr16;Atr17;Atr18;Atr19;Atr20;Atr21;Atr22;Atr23;Atr24;Atr25;Atr26;Atr27;Atr28;Atr29;Atr30;Atr31;Atr32;Atr33;Atr34;Atr35;Atr36;Atr37;Atr38;Atr39;Atr40;Atr41;Atr42;Atr43;Atr44;Atr45;Atr46;Atr47;Atr48;Atr49;Atr50;Atr51;Atr52;Atr53;Atr54;Class\n",
            "0  2;2;4;1;0;0;0;0;0;0;1;0;1;1;0;1;0;0;0;1;0;0;0;...                                                                                                                                                                                                                                                                              \n",
            "1  4;4;4;4;4;0;0;4;4;4;4;3;4;0;4;4;4;4;3;2;1;1;0;...                                                                                                                                                                                                                                                                              \n",
            "2  2;2;2;2;1;3;2;1;1;2;3;4;2;3;3;3;3;3;3;2;1;0;1;...                                                                                                                                                                                                                                                                              \n",
            "3  3;2;3;2;3;3;3;3;3;3;4;3;3;4;3;3;3;3;3;4;1;1;1;...                                                                                                                                                                                                                                                                              \n",
            "4  2;2;1;1;1;1;0;0;0;0;0;1;0;1;1;1;1;1;2;1;1;0;0;...                                                                                                                                                                                                                                                                              \n",
            "<class 'pandas.core.frame.DataFrame'>\n",
            "RangeIndex: 170 entries, 0 to 169\n",
            "Data columns (total 1 columns):\n",
            " #   Column                                                                                                                                                                                                                                                                                                                            Non-Null Count  Dtype \n",
            "---  ------                                                                                                                                                                                                                                                                                                                            --------------  ----- \n",
            " 0   Atr1;Atr2;Atr3;Atr4;Atr5;Atr6;Atr7;Atr8;Atr9;Atr10;Atr11;Atr12;Atr13;Atr14;Atr15;Atr16;Atr17;Atr18;Atr19;Atr20;Atr21;Atr22;Atr23;Atr24;Atr25;Atr26;Atr27;Atr28;Atr29;Atr30;Atr31;Atr32;Atr33;Atr34;Atr35;Atr36;Atr37;Atr38;Atr39;Atr40;Atr41;Atr42;Atr43;Atr44;Atr45;Atr46;Atr47;Atr48;Atr49;Atr50;Atr51;Atr52;Atr53;Atr54;Class  170 non-null    object\n",
            "dtypes: object(1)\n",
            "memory usage: 1.5+ KB\n",
            "None\n"
          ]
        }
      ],
      "source": [
        "import pandas as pd\n",
        "\n",
        "df = pd.read_csv(\"data/divorce.csv\")  # Adjust filename if different\n",
        "print(df.head())\n",
        "print(df.info())\n"
      ]
    },
    {
      "cell_type": "code",
      "execution_count": 11,
      "id": "60d2e823",
      "metadata": {},
      "outputs": [
        {
          "data": {
            "application/vnd.microsoft.datawrangler.viewer.v0+json": {
              "columns": [
                {
                  "name": "index",
                  "rawType": "int64",
                  "type": "integer"
                },
                {
                  "name": "Apologizes prevent escalation",
                  "rawType": "int64",
                  "type": "integer"
                },
                {
                  "name": "Can ignore differences",
                  "rawType": "int64",
                  "type": "integer"
                },
                {
                  "name": "Can restart discussions",
                  "rawType": "int64",
                  "type": "integer"
                },
                {
                  "name": "Can reconnect after arguing",
                  "rawType": "int64",
                  "type": "integer"
                },
                {
                  "name": "Time together is special",
                  "rawType": "int64",
                  "type": "integer"
                },
                {
                  "name": "No time as partners",
                  "rawType": "int64",
                  "type": "integer"
                },
                {
                  "name": "Like strangers at home",
                  "rawType": "int64",
                  "type": "integer"
                },
                {
                  "name": "Enjoy holidays together",
                  "rawType": "int64",
                  "type": "integer"
                },
                {
                  "name": "Enjoy traveling together",
                  "rawType": "int64",
                  "type": "integer"
                },
                {
                  "name": "Common goals",
                  "rawType": "int64",
                  "type": "integer"
                },
                {
                  "name": "See future harmony",
                  "rawType": "int64",
                  "type": "integer"
                },
                {
                  "name": "Similar values: freedom",
                  "rawType": "int64",
                  "type": "integer"
                },
                {
                  "name": "Similar entertainment",
                  "rawType": "int64",
                  "type": "integer"
                },
                {
                  "name": "Common social goals",
                  "rawType": "int64",
                  "type": "integer"
                },
                {
                  "name": "Similar life dreams",
                  "rawType": "int64",
                  "type": "integer"
                },
                {
                  "name": "Compatible views on love",
                  "rawType": "int64",
                  "type": "integer"
                },
                {
                  "name": "Agree on happiness",
                  "rawType": "int64",
                  "type": "integer"
                },
                {
                  "name": "Agree on marriage",
                  "rawType": "int64",
                  "type": "integer"
                },
                {
                  "name": "Agree on roles in marriage",
                  "rawType": "int64",
                  "type": "integer"
                },
                {
                  "name": "Similar values: trust",
                  "rawType": "int64",
                  "type": "integer"
                },
                {
                  "name": "Know spouse's likes",
                  "rawType": "int64",
                  "type": "integer"
                },
                {
                  "name": "Know how to care when sick",
                  "rawType": "int64",
                  "type": "integer"
                },
                {
                  "name": "Know favorite food",
                  "rawType": "int64",
                  "type": "integer"
                },
                {
                  "name": "Know spouse's stress",
                  "rawType": "int64",
                  "type": "integer"
                },
                {
                  "name": "Know inner world",
                  "rawType": "int64",
                  "type": "integer"
                },
                {
                  "name": "Know basic concerns",
                  "rawType": "int64",
                  "type": "integer"
                },
                {
                  "name": "Know stress sources",
                  "rawType": "int64",
                  "type": "integer"
                },
                {
                  "name": "Know hopes and wishes",
                  "rawType": "int64",
                  "type": "integer"
                },
                {
                  "name": "Know spouse well",
                  "rawType": "int64",
                  "type": "integer"
                },
                {
                  "name": "Know friends and social life",
                  "rawType": "int64",
                  "type": "integer"
                },
                {
                  "name": "Feel aggressive in arguments",
                  "rawType": "int64",
                  "type": "integer"
                },
                {
                  "name": "Use specific phrases",
                  "rawType": "int64",
                  "type": "integer"
                },
                {
                  "name": "Use negative personality statements",
                  "rawType": "int64",
                  "type": "integer"
                },
                {
                  "name": "Use offensive expressions",
                  "rawType": "int64",
                  "type": "integer"
                },
                {
                  "name": "Insult during discussions",
                  "rawType": "int64",
                  "type": "integer"
                },
                {
                  "name": "Can be humiliating in arguments",
                  "rawType": "int64",
                  "type": "integer"
                },
                {
                  "name": "Arguments aren't calm",
                  "rawType": "int64",
                  "type": "integer"
                },
                {
                  "name": "Hate spouse's approach",
                  "rawType": "int64",
                  "type": "integer"
                },
                {
                  "name": "Fights occur suddenly",
                  "rawType": "int64",
                  "type": "integer"
                },
                {
                  "name": "Fight starts unexpectedly",
                  "rawType": "int64",
                  "type": "integer"
                },
                {
                  "name": "Lose calm quickly",
                  "rawType": "int64",
                  "type": "integer"
                },
                {
                  "name": "Shut down in arguments",
                  "rawType": "int64",
                  "type": "integer"
                },
                {
                  "name": "Try to calm environment",
                  "rawType": "int64",
                  "type": "integer"
                },
                {
                  "name": "Think about leaving home",
                  "rawType": "int64",
                  "type": "integer"
                },
                {
                  "name": "Prefer silence over arguing",
                  "rawType": "int64",
                  "type": "integer"
                },
                {
                  "name": "Avoid upsetting spouse",
                  "rawType": "int64",
                  "type": "integer"
                },
                {
                  "name": "Stay silent to control anger",
                  "rawType": "int64",
                  "type": "integer"
                },
                {
                  "name": "Feel right in discussions",
                  "rawType": "int64",
                  "type": "integer"
                },
                {
                  "name": "Disagree with accusations",
                  "rawType": "int64",
                  "type": "integer"
                },
                {
                  "name": "Not guilty for accusations",
                  "rawType": "int64",
                  "type": "integer"
                },
                {
                  "name": "Not wrong about home issues",
                  "rawType": "int64",
                  "type": "integer"
                },
                {
                  "name": "No hesitation pointing out inadequacies",
                  "rawType": "int64",
                  "type": "integer"
                },
                {
                  "name": "Remind spouse of inadequacies",
                  "rawType": "int64",
                  "type": "integer"
                },
                {
                  "name": "Not afraid to mention incompetence",
                  "rawType": "int64",
                  "type": "integer"
                },
                {
                  "name": "Status",
                  "rawType": "int64",
                  "type": "integer"
                }
              ],
              "conversionMethod": "pd.DataFrame",
              "ref": "4dc39559-b981-4076-9451-07462d5abcc8",
              "rows": [
                [
                  "0",
                  "2",
                  "2",
                  "4",
                  "1",
                  "0",
                  "0",
                  "0",
                  "0",
                  "0",
                  "0",
                  "1",
                  "0",
                  "1",
                  "1",
                  "0",
                  "1",
                  "0",
                  "0",
                  "0",
                  "1",
                  "0",
                  "0",
                  "0",
                  "0",
                  "0",
                  "0",
                  "0",
                  "0",
                  "0",
                  "1",
                  "1",
                  "2",
                  "1",
                  "2",
                  "0",
                  "1",
                  "2",
                  "1",
                  "3",
                  "3",
                  "2",
                  "1",
                  "1",
                  "2",
                  "3",
                  "2",
                  "1",
                  "3",
                  "3",
                  "3",
                  "2",
                  "3",
                  "2",
                  "1",
                  "1"
                ],
                [
                  "1",
                  "4",
                  "4",
                  "4",
                  "4",
                  "4",
                  "0",
                  "0",
                  "4",
                  "4",
                  "4",
                  "4",
                  "3",
                  "4",
                  "0",
                  "4",
                  "4",
                  "4",
                  "4",
                  "3",
                  "2",
                  "1",
                  "1",
                  "0",
                  "2",
                  "2",
                  "1",
                  "2",
                  "0",
                  "1",
                  "1",
                  "0",
                  "4",
                  "2",
                  "3",
                  "0",
                  "2",
                  "3",
                  "4",
                  "2",
                  "4",
                  "2",
                  "2",
                  "3",
                  "4",
                  "2",
                  "2",
                  "2",
                  "3",
                  "4",
                  "4",
                  "4",
                  "4",
                  "2",
                  "2",
                  "1"
                ],
                [
                  "2",
                  "2",
                  "2",
                  "2",
                  "2",
                  "1",
                  "3",
                  "2",
                  "1",
                  "1",
                  "2",
                  "3",
                  "4",
                  "2",
                  "3",
                  "3",
                  "3",
                  "3",
                  "3",
                  "3",
                  "2",
                  "1",
                  "0",
                  "1",
                  "2",
                  "2",
                  "2",
                  "2",
                  "2",
                  "3",
                  "2",
                  "3",
                  "3",
                  "1",
                  "1",
                  "1",
                  "1",
                  "2",
                  "1",
                  "3",
                  "3",
                  "3",
                  "3",
                  "2",
                  "3",
                  "2",
                  "3",
                  "2",
                  "3",
                  "1",
                  "1",
                  "1",
                  "2",
                  "2",
                  "2",
                  "1"
                ],
                [
                  "3",
                  "3",
                  "2",
                  "3",
                  "2",
                  "3",
                  "3",
                  "3",
                  "3",
                  "3",
                  "3",
                  "4",
                  "3",
                  "3",
                  "4",
                  "3",
                  "3",
                  "3",
                  "3",
                  "3",
                  "4",
                  "1",
                  "1",
                  "1",
                  "1",
                  "2",
                  "1",
                  "1",
                  "1",
                  "1",
                  "3",
                  "2",
                  "3",
                  "2",
                  "2",
                  "1",
                  "1",
                  "3",
                  "3",
                  "4",
                  "4",
                  "2",
                  "2",
                  "3",
                  "2",
                  "3",
                  "2",
                  "2",
                  "3",
                  "3",
                  "3",
                  "3",
                  "2",
                  "2",
                  "2",
                  "1"
                ],
                [
                  "4",
                  "2",
                  "2",
                  "1",
                  "1",
                  "1",
                  "1",
                  "0",
                  "0",
                  "0",
                  "0",
                  "0",
                  "1",
                  "0",
                  "1",
                  "1",
                  "1",
                  "1",
                  "1",
                  "2",
                  "1",
                  "1",
                  "0",
                  "0",
                  "0",
                  "0",
                  "2",
                  "1",
                  "2",
                  "1",
                  "1",
                  "1",
                  "1",
                  "1",
                  "1",
                  "0",
                  "0",
                  "0",
                  "0",
                  "2",
                  "1",
                  "0",
                  "2",
                  "3",
                  "0",
                  "2",
                  "2",
                  "1",
                  "2",
                  "3",
                  "2",
                  "2",
                  "2",
                  "1",
                  "0",
                  "1"
                ]
              ],
              "shape": {
                "columns": 55,
                "rows": 5
              }
            },
            "text/html": [
              "<div>\n",
              "<style scoped>\n",
              "    .dataframe tbody tr th:only-of-type {\n",
              "        vertical-align: middle;\n",
              "    }\n",
              "\n",
              "    .dataframe tbody tr th {\n",
              "        vertical-align: top;\n",
              "    }\n",
              "\n",
              "    .dataframe thead th {\n",
              "        text-align: right;\n",
              "    }\n",
              "</style>\n",
              "<table border=\"1\" class=\"dataframe\">\n",
              "  <thead>\n",
              "    <tr style=\"text-align: right;\">\n",
              "      <th></th>\n",
              "      <th>Apologizes prevent escalation</th>\n",
              "      <th>Can ignore differences</th>\n",
              "      <th>Can restart discussions</th>\n",
              "      <th>Can reconnect after arguing</th>\n",
              "      <th>Time together is special</th>\n",
              "      <th>No time as partners</th>\n",
              "      <th>Like strangers at home</th>\n",
              "      <th>Enjoy holidays together</th>\n",
              "      <th>Enjoy traveling together</th>\n",
              "      <th>Common goals</th>\n",
              "      <th>...</th>\n",
              "      <th>Avoid upsetting spouse</th>\n",
              "      <th>Stay silent to control anger</th>\n",
              "      <th>Feel right in discussions</th>\n",
              "      <th>Disagree with accusations</th>\n",
              "      <th>Not guilty for accusations</th>\n",
              "      <th>Not wrong about home issues</th>\n",
              "      <th>No hesitation pointing out inadequacies</th>\n",
              "      <th>Remind spouse of inadequacies</th>\n",
              "      <th>Not afraid to mention incompetence</th>\n",
              "      <th>Status</th>\n",
              "    </tr>\n",
              "  </thead>\n",
              "  <tbody>\n",
              "    <tr>\n",
              "      <th>0</th>\n",
              "      <td>2</td>\n",
              "      <td>2</td>\n",
              "      <td>4</td>\n",
              "      <td>1</td>\n",
              "      <td>0</td>\n",
              "      <td>0</td>\n",
              "      <td>0</td>\n",
              "      <td>0</td>\n",
              "      <td>0</td>\n",
              "      <td>0</td>\n",
              "      <td>...</td>\n",
              "      <td>2</td>\n",
              "      <td>1</td>\n",
              "      <td>3</td>\n",
              "      <td>3</td>\n",
              "      <td>3</td>\n",
              "      <td>2</td>\n",
              "      <td>3</td>\n",
              "      <td>2</td>\n",
              "      <td>1</td>\n",
              "      <td>1</td>\n",
              "    </tr>\n",
              "    <tr>\n",
              "      <th>1</th>\n",
              "      <td>4</td>\n",
              "      <td>4</td>\n",
              "      <td>4</td>\n",
              "      <td>4</td>\n",
              "      <td>4</td>\n",
              "      <td>0</td>\n",
              "      <td>0</td>\n",
              "      <td>4</td>\n",
              "      <td>4</td>\n",
              "      <td>4</td>\n",
              "      <td>...</td>\n",
              "      <td>2</td>\n",
              "      <td>2</td>\n",
              "      <td>3</td>\n",
              "      <td>4</td>\n",
              "      <td>4</td>\n",
              "      <td>4</td>\n",
              "      <td>4</td>\n",
              "      <td>2</td>\n",
              "      <td>2</td>\n",
              "      <td>1</td>\n",
              "    </tr>\n",
              "    <tr>\n",
              "      <th>2</th>\n",
              "      <td>2</td>\n",
              "      <td>2</td>\n",
              "      <td>2</td>\n",
              "      <td>2</td>\n",
              "      <td>1</td>\n",
              "      <td>3</td>\n",
              "      <td>2</td>\n",
              "      <td>1</td>\n",
              "      <td>1</td>\n",
              "      <td>2</td>\n",
              "      <td>...</td>\n",
              "      <td>3</td>\n",
              "      <td>2</td>\n",
              "      <td>3</td>\n",
              "      <td>1</td>\n",
              "      <td>1</td>\n",
              "      <td>1</td>\n",
              "      <td>2</td>\n",
              "      <td>2</td>\n",
              "      <td>2</td>\n",
              "      <td>1</td>\n",
              "    </tr>\n",
              "    <tr>\n",
              "      <th>3</th>\n",
              "      <td>3</td>\n",
              "      <td>2</td>\n",
              "      <td>3</td>\n",
              "      <td>2</td>\n",
              "      <td>3</td>\n",
              "      <td>3</td>\n",
              "      <td>3</td>\n",
              "      <td>3</td>\n",
              "      <td>3</td>\n",
              "      <td>3</td>\n",
              "      <td>...</td>\n",
              "      <td>2</td>\n",
              "      <td>2</td>\n",
              "      <td>3</td>\n",
              "      <td>3</td>\n",
              "      <td>3</td>\n",
              "      <td>3</td>\n",
              "      <td>2</td>\n",
              "      <td>2</td>\n",
              "      <td>2</td>\n",
              "      <td>1</td>\n",
              "    </tr>\n",
              "    <tr>\n",
              "      <th>4</th>\n",
              "      <td>2</td>\n",
              "      <td>2</td>\n",
              "      <td>1</td>\n",
              "      <td>1</td>\n",
              "      <td>1</td>\n",
              "      <td>1</td>\n",
              "      <td>0</td>\n",
              "      <td>0</td>\n",
              "      <td>0</td>\n",
              "      <td>0</td>\n",
              "      <td>...</td>\n",
              "      <td>2</td>\n",
              "      <td>1</td>\n",
              "      <td>2</td>\n",
              "      <td>3</td>\n",
              "      <td>2</td>\n",
              "      <td>2</td>\n",
              "      <td>2</td>\n",
              "      <td>1</td>\n",
              "      <td>0</td>\n",
              "      <td>1</td>\n",
              "    </tr>\n",
              "  </tbody>\n",
              "</table>\n",
              "<p>5 rows × 55 columns</p>\n",
              "</div>"
            ],
            "text/plain": [
              "   Apologizes prevent escalation  Can ignore differences  \\\n",
              "0                              2                       2   \n",
              "1                              4                       4   \n",
              "2                              2                       2   \n",
              "3                              3                       2   \n",
              "4                              2                       2   \n",
              "\n",
              "   Can restart discussions  Can reconnect after arguing  \\\n",
              "0                        4                            1   \n",
              "1                        4                            4   \n",
              "2                        2                            2   \n",
              "3                        3                            2   \n",
              "4                        1                            1   \n",
              "\n",
              "   Time together is special  No time as partners  Like strangers at home  \\\n",
              "0                         0                    0                       0   \n",
              "1                         4                    0                       0   \n",
              "2                         1                    3                       2   \n",
              "3                         3                    3                       3   \n",
              "4                         1                    1                       0   \n",
              "\n",
              "   Enjoy holidays together  Enjoy traveling together  Common goals  ...  \\\n",
              "0                        0                         0             0  ...   \n",
              "1                        4                         4             4  ...   \n",
              "2                        1                         1             2  ...   \n",
              "3                        3                         3             3  ...   \n",
              "4                        0                         0             0  ...   \n",
              "\n",
              "   Avoid upsetting spouse  Stay silent to control anger  \\\n",
              "0                       2                             1   \n",
              "1                       2                             2   \n",
              "2                       3                             2   \n",
              "3                       2                             2   \n",
              "4                       2                             1   \n",
              "\n",
              "   Feel right in discussions  Disagree with accusations  \\\n",
              "0                          3                          3   \n",
              "1                          3                          4   \n",
              "2                          3                          1   \n",
              "3                          3                          3   \n",
              "4                          2                          3   \n",
              "\n",
              "   Not guilty for accusations  Not wrong about home issues  \\\n",
              "0                           3                            2   \n",
              "1                           4                            4   \n",
              "2                           1                            1   \n",
              "3                           3                            3   \n",
              "4                           2                            2   \n",
              "\n",
              "   No hesitation pointing out inadequacies  Remind spouse of inadequacies  \\\n",
              "0                                        3                              2   \n",
              "1                                        4                              2   \n",
              "2                                        2                              2   \n",
              "3                                        2                              2   \n",
              "4                                        2                              1   \n",
              "\n",
              "   Not afraid to mention incompetence  Status  \n",
              "0                                   1       1  \n",
              "1                                   2       1  \n",
              "2                                   2       1  \n",
              "3                                   2       1  \n",
              "4                                   0       1  \n",
              "\n",
              "[5 rows x 55 columns]"
            ]
          },
          "execution_count": 11,
          "metadata": {},
          "output_type": "execute_result"
        }
      ],
      "source": [
        "import pandas as pd\n",
        "\n",
        "# Load the dataset using the correct delimiter\n",
        "df = pd.read_csv(\"data/divorce.csv\", sep=\";\")\n",
        "\n",
        "# List of survey questions (shortened versions)\n",
        "survey_questions = [\n",
        "    \"Apologizes prevent escalation\",\n",
        "    \"Can ignore differences\",\n",
        "    \"Can restart discussions\",\n",
        "    \"Can reconnect after arguing\",\n",
        "    \"Time together is special\",\n",
        "    \"No time as partners\",\n",
        "    \"Like strangers at home\",\n",
        "    \"Enjoy holidays together\",\n",
        "    \"Enjoy traveling together\",\n",
        "    \"Common goals\",\n",
        "    \"See future harmony\",\n",
        "    \"Similar values: freedom\",\n",
        "    \"Similar entertainment\",\n",
        "    \"Common social goals\",\n",
        "    \"Similar life dreams\",\n",
        "    \"Compatible views on love\",\n",
        "    \"Agree on happiness\",\n",
        "    \"Agree on marriage\",\n",
        "    \"Agree on roles in marriage\",\n",
        "    \"Similar values: trust\",\n",
        "    \"Know spouse's likes\",\n",
        "    \"Know how to care when sick\",\n",
        "    \"Know favorite food\",\n",
        "    \"Know spouse's stress\",\n",
        "    \"Know inner world\",\n",
        "    \"Know basic concerns\",\n",
        "    \"Know stress sources\",\n",
        "    \"Know hopes and wishes\",\n",
        "    \"Know spouse well\",\n",
        "    \"Know friends and social life\",\n",
        "    \"Feel aggressive in arguments\",\n",
        "    \"Use specific phrases\",\n",
        "    \"Use negative personality statements\",\n",
        "    \"Use offensive expressions\",\n",
        "    \"Insult during discussions\",\n",
        "    \"Can be humiliating in arguments\",\n",
        "    \"Arguments aren't calm\",\n",
        "    \"Hate spouse's approach\",\n",
        "    \"Fights occur suddenly\",\n",
        "    \"Fight starts unexpectedly\",\n",
        "    \"Lose calm quickly\",\n",
        "    \"Shut down in arguments\",\n",
        "    \"Try to calm environment\",\n",
        "    \"Think about leaving home\",\n",
        "    \"Prefer silence over arguing\",\n",
        "    \"Avoid upsetting spouse\",\n",
        "    \"Stay silent to control anger\",\n",
        "    \"Feel right in discussions\",\n",
        "    \"Disagree with accusations\",\n",
        "    \"Not guilty for accusations\",\n",
        "    \"Not wrong about home issues\",\n",
        "    \"No hesitation pointing out inadequacies\",\n",
        "    \"Remind spouse of inadequacies\",\n",
        "    \"Not afraid to mention incompetence\"\n",
        "]\n",
        "\n",
        "# Add final column name\n",
        "new_columns = survey_questions + [\"Status\"]\n",
        "df.columns = new_columns\n",
        "\n",
        "# View the first few rows\n",
        "df.head()\n"
      ]
    },
    {
      "cell_type": "code",
      "execution_count": 12,
      "id": "cbee8b27",
      "metadata": {},
      "outputs": [
        {
          "name": "stdout",
          "output_type": "stream",
          "text": [
            "Apologizes prevent escalation              0\n",
            "Can ignore differences                     0\n",
            "Can restart discussions                    0\n",
            "Can reconnect after arguing                0\n",
            "Time together is special                   0\n",
            "No time as partners                        0\n",
            "Like strangers at home                     0\n",
            "Enjoy holidays together                    0\n",
            "Enjoy traveling together                   0\n",
            "Common goals                               0\n",
            "See future harmony                         0\n",
            "Similar values: freedom                    0\n",
            "Similar entertainment                      0\n",
            "Common social goals                        0\n",
            "Similar life dreams                        0\n",
            "Compatible views on love                   0\n",
            "Agree on happiness                         0\n",
            "Agree on marriage                          0\n",
            "Agree on roles in marriage                 0\n",
            "Similar values: trust                      0\n",
            "Know spouse's likes                        0\n",
            "Know how to care when sick                 0\n",
            "Know favorite food                         0\n",
            "Know spouse's stress                       0\n",
            "Know inner world                           0\n",
            "Know basic concerns                        0\n",
            "Know stress sources                        0\n",
            "Know hopes and wishes                      0\n",
            "Know spouse well                           0\n",
            "Know friends and social life               0\n",
            "Feel aggressive in arguments               0\n",
            "Use specific phrases                       0\n",
            "Use negative personality statements        0\n",
            "Use offensive expressions                  0\n",
            "Insult during discussions                  0\n",
            "Can be humiliating in arguments            0\n",
            "Arguments aren't calm                      0\n",
            "Hate spouse's approach                     0\n",
            "Fights occur suddenly                      0\n",
            "Fight starts unexpectedly                  0\n",
            "Lose calm quickly                          0\n",
            "Shut down in arguments                     0\n",
            "Try to calm environment                    0\n",
            "Think about leaving home                   0\n",
            "Prefer silence over arguing                0\n",
            "Avoid upsetting spouse                     0\n",
            "Stay silent to control anger               0\n",
            "Feel right in discussions                  0\n",
            "Disagree with accusations                  0\n",
            "Not guilty for accusations                 0\n",
            "Not wrong about home issues                0\n",
            "No hesitation pointing out inadequacies    0\n",
            "Remind spouse of inadequacies              0\n",
            "Not afraid to mention incompetence         0\n",
            "Status                                     0\n",
            "dtype: int64\n"
          ]
        }
      ],
      "source": [
        "print(df.isnull().sum())"
      ]
    },
    {
      "cell_type": "code",
      "execution_count": 14,
      "id": "71b8ef4a",
      "metadata": {},
      "outputs": [
        {
          "data": {
            "image/png": "[encoded data removed]",
            "text/plain": [
              "<Figure size 640x480 with 2 Axes>"
            ]
          },
          "metadata": {},
          "output_type": "display_data"
        }
      ],
      "source": [
        "import seaborn as sns\n",
        "import matplotlib.pyplot as plt\n",
        "corr = df.corr()\n",
        "sns.heatmap(corr[[\"Status\"]].sort_values(by=\"Status\", ascending=False), annot=True)\n",
        "plt.title(\"Correlation with Marital Status\")\n",
        "plt.show()"
      ]
    },
    {
      "cell_type": "code",
      "execution_count": 15,
      "id": "99037d30",
      "metadata": {},
      "outputs": [],
      "source": [
        "from sklearn.model_selection import train_test_split\n",
        "\n",
        "X = df.drop(columns=\"Status\")\n",
        "y = df[\"Status\"]\n",
        "\n",
        "\n",
        "X_train, X_test, y_train, y_test = train_test_split(X, y, test_size=0.2, random_state=42)\n"
      ]
    },
    {
      "cell_type": "code",
      "execution_count": 16,
      "id": "7a25247f",
      "metadata": {},
      "outputs": [
        {
          "name": "stdout",
          "output_type": "stream",
          "text": [
            "Linear Regression SSE: 0.8105\n",
            "Ridge Regression SSE: 0.7162\n",
            "Lasso Regression SSE: 0.5322\n"
          ]
        }
      ],
      "source": [
        "from sklearn.linear_model import LinearRegression, Ridge, Lasso\n",
        "from sklearn.metrics import mean_squared_error\n",
        "\n",
        "models = {\n",
        "    \"Linear\": LinearRegression(),\n",
        "    \"Ridge\": Ridge(alpha=1.0),\n",
        "    \"Lasso\": Lasso(alpha=0.1)\n",
        "}\n",
        "\n",
        "sse_results = {}\n",
        "\n",
        "for name, model in models.items():\n",
        "    model.fit(X_train, y_train)\n",
        "    y_pred = model.predict(X_test)\n",
        "    sse = ((y_test - y_pred) ** 2).sum()\n",
        "    sse_results[name] = sse\n",
        "    print(f\"{name} Regression SSE: {sse:.4f}\")\n"
      ]
    },
    {
      "cell_type": "markdown",
      "id": "4686e887",
      "metadata": {},
      "source": [
        "I tested three regression models and calculated the Sum of Squared Errors.The Lasso Regression model had the lowest SSE (0.5322), indicating the best performance. Lasso works well here because:\n",
        "\n",
        "It performs feature selection by shrinking less important coefficients to zero.\n",
        "This is helpful when we have many (potentially redundant) predictors, as is the case here with 54 questions. Lasso was particularly effective because it automatically selected the most important predictors and ignored the noise."
      ]
    },
    {
      "cell_type": "markdown",
      "id": "c247f237",
      "metadata": {},
      "source": [
        "# Q9"
      ]
    },
    {
      "cell_type": "markdown",
      "id": "fcf48562",
      "metadata": {},
      "source": [
        "**Q9.** There is a folder called `heart_failure` which contains reasonably detailed health data on patients and whether they die of congestive heart failure. \n",
        "\n",
        "1. Load the data and perform an 80/20-train/test split.\n",
        "2. Using dummy/one-hot-encoded variables and transformations of the numeric features, build the best model you can. **But**, do not delete code chunks or revise your work substantially as you experiment. Just keep moving forward with your ideas and experiments.\n",
        "3. When you're done, scroll through your notebook. What worked and what didn't? Does your code have intention, or are you randomly experimenting? If you had to do this again, what might you do differently to get to a good model faster?\n"
      ]
    },
    {
      "cell_type": "code",
      "execution_count": null,
      "id": "6597ea55",
      "metadata": {},
      "outputs": [
        {
          "name": "stdout",
          "output_type": "stream",
          "text": [
            "    age  anaemia  creatinine_phosphokinase  diabetes  ejection_fraction  \\\n",
            "0  75.0        0                       582         0                 20   \n",
            "1  55.0        0                      7861         0                 38   \n",
            "2  65.0        0                       146         0                 20   \n",
            "3  50.0        1                       111         0                 20   \n",
            "4  65.0        1                       160         1                 20   \n",
            "\n",
            "   high_blood_pressure  platelets  serum_creatinine  serum_sodium  sex  \\\n",
            "0                    1  265000.00               1.9           130    1   \n",
            "1                    0  263358.03               1.1           136    1   \n",
            "2                    0  162000.00               1.3           129    1   \n",
            "3                    0  210000.00               1.9           137    1   \n",
            "4                    0  327000.00               2.7           116    0   \n",
            "\n",
            "   smoking  time  DEATH_EVENT  \n",
            "0        0     4            1  \n",
            "1        0     6            1  \n",
            "2        1     7            1  \n",
            "3        0     7            1  \n",
            "4        0     8            1  \n"
          ]
        }
      ],
      "source": [
        "import pandas as pd\n",
        "from sklearn.model_selection import train_test_split\n",
        "\n",
        "df = pd.read_csv('data/heart_failure/heart_failure_clinical_records_dataset.csv')\n",
        "\n",
        "\n",
        "print(df.head())\n",
        "\n",
        "\n",
        "X = df.drop('DEATH_EVENT', axis=1)\n",
        "y = df['DEATH_EVENT']\n",
        "\n",
        "X_train, X_test, y_train, y_test = train_test_split(X, y, test_size=0.2, random_state=42)\n"
      ]
    },
    {
      "cell_type": "code",
      "execution_count": null,
      "id": "82d72185",
      "metadata": {},
      "outputs": [
        {
          "name": "stdout",
          "output_type": "stream",
          "text": [
            "Logistic Regression Accuracy: 0.8\n",
            "[[34  1]\n",
            " [11 14]]\n"
          ]
        }
      ],
      "source": [
        "from sklearn.linear_model import LogisticRegression\n",
        "from sklearn.preprocessing import StandardScaler\n",
        "from sklearn.pipeline import make_pipeline\n",
        "from sklearn.metrics import accuracy_score, confusion_matrix\n",
        "\n",
        "\n",
        "logreg = make_pipeline(StandardScaler(), LogisticRegression(max_iter=1000))\n",
        "logreg.fit(X_train, y_train)\n",
        "y_pred_logreg = logreg.predict(X_test)\n",
        "\n",
        "print(\"Logistic Regression Accuracy:\", accuracy_score(y_test, y_pred_logreg))\n",
        "print(confusion_matrix(y_test, y_pred_logreg))\n"
      ]
    },
    {
      "cell_type": "code",
      "execution_count": null,
      "id": "56144579",
      "metadata": {},
      "outputs": [
        {
          "name": "stdout",
          "output_type": "stream",
          "text": [
            "Poly Logistic Regression Accuracy: 0.6666666666666666\n",
            "[[28  7]\n",
            " [13 12]]\n"
          ]
        }
      ],
      "source": [
        "from sklearn.preprocessing import PolynomialFeatures\n",
        "\n",
        "\n",
        "from sklearn.linear_model import LogisticRegressionCV\n",
        "\n",
        "pipeline_poly = make_pipeline(\n",
        "    StandardScaler(),\n",
        "    PolynomialFeatures(degree=2, include_bias=False),\n",
        "    LogisticRegressionCV(cv=5, max_iter=1000)\n",
        ")\n",
        "pipeline_poly.fit(X_train, y_train)\n",
        "y_pred_poly = pipeline_poly.predict(X_test)\n",
        "\n",
        "print(\"Poly Logistic Regression Accuracy:\", accuracy_score(y_test, y_pred_poly))\n",
        "print(confusion_matrix(y_test, y_pred_poly))\n"
      ]
    },
    {
      "cell_type": "code",
      "execution_count": 22,
      "id": "5c2fd501",
      "metadata": {},
      "outputs": [
        {
          "name": "stdout",
          "output_type": "stream",
          "text": [
            "Random Forest Accuracy: 0.75\n",
            "[[33  2]\n",
            " [13 12]]\n"
          ]
        }
      ],
      "source": [
        "from sklearn.ensemble import RandomForestClassifier\n",
        "\n",
        "rf = RandomForestClassifier(n_estimators=100, random_state=42)\n",
        "rf.fit(X_train, y_train)\n",
        "y_pred_rf = rf.predict(X_test)\n",
        "\n",
        "print(\"Random Forest Accuracy:\", accuracy_score(y_test, y_pred_rf))\n",
        "print(confusion_matrix(y_test, y_pred_rf))\n"
      ]
    },
    {
      "cell_type": "code",
      "execution_count": 23,
      "id": "1e27d96d",
      "metadata": {},
      "outputs": [
        {
          "name": "stdout",
          "output_type": "stream",
          "text": [
            "KBest Logistic Regression Accuracy: 0.7833333333333333\n",
            "[[34  1]\n",
            " [12 13]]\n"
          ]
        }
      ],
      "source": [
        "from sklearn.feature_selection import SelectKBest, f_classif\n",
        "from sklearn.pipeline import Pipeline\n",
        "\n",
        "pipeline_kbest = Pipeline([\n",
        "    ('scaler', StandardScaler()),\n",
        "    ('select', SelectKBest(score_func=f_classif, k=5)),\n",
        "    ('clf', LogisticRegression(max_iter=1000))\n",
        "])\n",
        "\n",
        "pipeline_kbest.fit(X_train, y_train)\n",
        "y_pred_kbest = pipeline_kbest.predict(X_test)\n",
        "\n",
        "print(\"KBest Logistic Regression Accuracy:\", accuracy_score(y_test, y_pred_kbest))\n",
        "print(confusion_matrix(y_test, y_pred_kbest))\n"
      ]
    },
    {
      "cell_type": "markdown",
      "id": "5703eb2c",
      "metadata": {},
      "source": [
        "Standard Logistic Regression was the top performer with 80% accuracy, and a strong balance between false positives and false negatives.\n",
        "KBest feature selection slightly reduced accuracy but made the model simpler and interpretable, still maintaining solid performance.\n",
        "Random Forest gave reasonable accuracy and handled feature interactions, though slightly worse than Logistic Regression.Polynomial features (degree=2) led to overfitting and lower generalization performance — accuracy dropped to 66%. Even though this expands feature space, it added noise without much gain here.\n",
        "\n",
        "If doing it again, I would start with EDA to guide which features are most important"
      ]
    }
  ],
  "metadata": {
    "colab": {
      "provenance": []
    },
    "kernelspec": {
      "display_name": "Python 3",
      "language": "python",
      "name": "python3"
    },
    "language_info": {
      "codemirror_mode": {
        "name": "ipython",
        "version": 3
      },
      "file_extension": ".py",
      "mimetype": "text/x-python",
      "name": "python",
      "nbconvert_exporter": "python",
      "pygments_lexer": "ipython3",
      "version": "3.12.10"
    }
  },
  "nbformat": 4,
  "nbformat_minor": 5
}
