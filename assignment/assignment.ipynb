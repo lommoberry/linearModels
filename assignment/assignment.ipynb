{
  "cells": [
    {
      "cell_type": "markdown",
      "id": "e0c7b14a-e5aa-4abc-b48b-b8a9d20dacac",
      "metadata": {
        "id": "e0c7b14a-e5aa-4abc-b48b-b8a9d20dacac"
      },
      "source": [
        "# Assignment: Linear Models\n",
        "## Do three questions.\n",
        "### `! git clone https://github.com/ds4e/linearModels`"
      ]
    },
    {
      "cell_type": "markdown",
      "id": "bf4826b0",
      "metadata": {
        "id": "bf4826b0"
      },
      "source": [
        "**Q1.** Please answer the following questions in your own words.\n",
        "\n",
        "1. What makes a model \"linear\"? \"Linear\" in what?\n",
        "2. How do you interpret the coefficient for a dummy/one-hot-encoded variable? (This is a trick question, and the trick involves how you handle the intercept of the model.)\n",
        "3. Can linear regression be used for classification? Explain why, or why not.\n",
        "4. What are signs that your linear model is over-fitting?\n",
        "5. Clearly explain multi-colinearity using the two-stage least squares technique.\n",
        "6. How can you incorporate nonlinear relationships between your target/response/dependent/outcome variable $y$ and your features/control/response/independent variables $x$ into your analysis?\n",
        "7. What is the interpretation of the intercept? A slope coefficient for a variable? The coefficient for a dummy/one-hot-encoded variable?"
      ]
    },
    {
      "cell_type": "markdown",
      "id": "74de25b8",
      "metadata": {},
      "source": [
        "***Q1.1*** \n",
        "\n",
        "A model is linear if it assumes a linear relationship between the independent and dependent variables. It is linear in the parameters, which means that the model can be written in a linear fashion.\n",
        "\n",
        "***Q1.2*** \n",
        "\n",
        "The coefficient for a dummy variable represents the difference between the expected value of y when the category is presents vs the baseline category where the variables are held constant. \n",
        "\n",
        "if there is an intercept, one catergory is left out as a reference category and its effect is seen in the intercept\n",
        "\n",
        "if there is not an intercept in the model, all the dummy variables are included but the coefficient's interpretation will change because each coefficient will represent the absolute mean of y for that category\n",
        "\n",
        "***Q1.3*** \n",
        "linear regression can be used, but its not the best choice, because it produces a continuous value instead of probabilities, it assumes a linear relationship which might not be the base, especially for classification which can require decision boundaries that might not be linear. Also linear regressions are sensitive to outliers which can skew the data. \n",
        "\n",
        "***Q1.4*** \n",
        "Overfitting signs\n",
        "- if there is high training accuracy and low test accuracy. This means that the model is only trained for the training data, and can't be applied for general use\n",
        "- if small changes in data lead to large coefficient variations\n",
        "- large coefficients means the model is trying to fit noise in data\n",
        "- adjusted R^2 is lower than R^2, means too many predictors                                                                                                                                             \n",
        "\n",
        "***Q1.5*** \n",
        "multicollinearity is when two or more independent variables are highly correlated, making it hard to see there independent effects on y. \n",
        "\n",
        "Two-stage Least squares \n",
        "\n",
        "***Q1.6*** \n",
        "1. polynomial features, can capture curves for a model that does not align well to linear regression\n",
        "2. logs can linearize exponentials\n",
        "3. GAMS smooth non linear functions to variables instead\n",
        "4. machine learning models\n",
        "\n",
        "***Q1.7*** \n"
      ]
    },
    {
      "cell_type": "markdown",
      "id": "b67478ac-ad78-4a44-9720-583c71b8da14",
      "metadata": {
        "id": "b67478ac-ad78-4a44-9720-583c71b8da14"
      },
      "source": [
        "**Q8.**\n",
        "1. Find a dataset on a topic you're interested in. Some easy options are data.gov, kaggle.com, and data.world.\n",
        "2. Clean the data and do some exploratory data analysis on key variables that interest you. Pick a particular target/outcome variable and features/predictors.\n",
        "3. Split the sample into an ~80% training set and a ~20% test set.\n",
        "4. Run a few regressions of your target/outcome variable on a variety of features/predictors. Compute the SSE on the test set.\n",
        "5. Which model performed the best, and why?\n",
        "6. What did you learn?"
      ]
    },
    {
      "cell_type": "markdown",
      "id": "fcf48562",
      "metadata": {},
      "source": [
        "**Q9.** There is a folder called `heart_failure` which contains reasonably detailed health data on patients and whether they die of congestive heart failure. \n",
        "\n",
        "1. Load the data and perform an 80/20-train/test split.\n",
        "2. Using dummy/one-hot-encoded variables and transformations of the numeric features, build the best model you can. **But**, do not delete code chunks or revise your work substantially as you experiment. Just keep moving forward with your ideas and experiments.\n",
        "3. When you're done, scroll through your notebook. What worked and what didn't? Does your code have intention, or are you randomly experimenting? If you had to do this again, what might you do differently to get to a good model faster?\n"
      ]
    }
  ],
  "metadata": {
    "colab": {
      "provenance": []
    },
    "kernelspec": {
      "display_name": "Python 3 (ipykernel)",
      "language": "python",
      "name": "python3"
    },
    "language_info": {
      "codemirror_mode": {
        "name": "ipython",
        "version": 3
      },
      "file_extension": ".py",
      "mimetype": "text/x-python",
      "name": "python",
      "nbconvert_exporter": "python",
      "pygments_lexer": "ipython3",
      "version": "3.12.2"
    }
  },
  "nbformat": 4,
  "nbformat_minor": 5
}
